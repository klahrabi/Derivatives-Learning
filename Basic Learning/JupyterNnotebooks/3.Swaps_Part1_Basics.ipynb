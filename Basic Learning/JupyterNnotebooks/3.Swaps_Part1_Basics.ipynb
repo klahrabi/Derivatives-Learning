{
 "cells": [
  {
   "cell_type": "markdown",
   "id": "0d0d30bf",
   "metadata": {},
   "source": [
    "# Introduction to Swaps"
   ]
  },
  {
   "cell_type": "markdown",
   "id": "a89e8aea",
   "metadata": {},
   "source": [
    "\n",
    "## Overview of Swaps\n",
    "Swaps are derivative contracts in which two parties agree to exchange cash flows or other financial instruments over a set period. Swaps are widely used in finance for managing interest rate, credit, and market risks, as well as for speculative purposes.\n",
    "\n",
    "### Common Types of Swaps\n",
    "1. **Interest Rate Swaps (IRS)**: Exchange of interest rate payments, usually between fixed and floating rates.\n",
    "2. **Total Return Swaps (TRS)**: Exchange of total return on an asset (e.g., equity or bond) for a fixed or floating rate.\n",
    "3. **Credit Default Swaps (CDS)**: Insurance-like swaps that transfer credit risk from one party to another.\n",
    "4. **Swaptions**: Options on swaps, allowing the holder to enter into a swap under pre-specified terms.\n",
    "\n",
    "This notebook will explore each of these swaps, their structure, cash flows, and common uses.\n"
   ]
  },
  {
   "cell_type": "markdown",
   "id": "de6246ef",
   "metadata": {},
   "source": [
    "\n",
    "## 1. Interest Rate Swaps (IRS)\n",
    "Interest Rate Swaps (IRS) are contracts where two parties exchange interest payments on a notional principal over a period. The most common type involves one party paying a fixed rate and the other paying a floating rate, based on a benchmark rate like LIBOR.\n",
    "\n",
    "### Structure of an Interest Rate Swap\n",
    "- **Fixed Leg**: One party pays a fixed interest rate on the notional principal.\n",
    "- **Floating Leg**: The other party pays a floating interest rate, which resets periodically.\n",
    "\n",
    "### Use Cases for IRS\n",
    "- **Hedging**: Corporations or financial institutions use IRS to hedge against fluctuations in interest rates.\n",
    "- **Speculation**: Investors may speculate on the direction of interest rates by entering swaps.\n",
    "\n",
    "Below is a visualization of the cash flows for a simple fixed-for-floating IRS.\n"
   ]
  },
  {
   "cell_type": "code",
   "execution_count": null,
   "id": "eb7b0750",
   "metadata": {},
   "outputs": [],
   "source": [
    "\n",
    "import matplotlib.pyplot as plt\n",
    "\n",
    "# Define parameters for the IRS visualization\n",
    "periods = 10  # Number of periods (e.g., years)\n",
    "fixed_rate = 0.03  # Fixed interest rate (3%)\n",
    "floating_rate_series = [0.025, 0.028, 0.031, 0.029, 0.027, 0.032, 0.034, 0.030, 0.029, 0.028]  # Floating rate per period\n",
    "notional = 1000000  # Notional principal\n",
    "\n",
    "# Calculate fixed and floating payments\n",
    "fixed_payments = [fixed_rate * notional for _ in range(periods)]\n",
    "floating_payments = [floating_rate * notional for floating_rate in floating_rate_series]\n",
    "\n",
    "# Plotting cash flows\n",
    "plt.figure(figsize=(12, 6))\n",
    "plt.plot(range(1, periods + 1), fixed_payments, label=\"Fixed Leg Payments\", color=\"blue\", linestyle=\"--\")\n",
    "plt.plot(range(1, periods + 1), floating_payments, label=\"Floating Leg Payments\", color=\"red\", linestyle=\":\")\n",
    "plt.xlabel(\"Period\")\n",
    "plt.ylabel(\"Payment Amount ($)\")\n",
    "plt.title(\"Cash Flows for Fixed-for-Floating Interest Rate Swap\")\n",
    "plt.legend()\n",
    "plt.grid(True)\n",
    "plt.show()\n"
   ]
  },
  {
   "cell_type": "markdown",
   "id": "265bd029",
   "metadata": {},
   "source": [
    "\n",
    "## 2. Total Return Swaps (TRS)\n",
    "A Total Return Swap (TRS) allows one party to receive the total return of an asset (such as equity or bond) while paying a floating rate, typically LIBOR plus a spread. The other party receives the floating rate while paying the asset's return.\n",
    "\n",
    "### Structure of a TRS\n",
    "- **Total Return Payer**: Pays the asset's performance (including price appreciation and any dividends/coupons) and receives a floating rate.\n",
    "- **Total Return Receiver**: Receives the asset's performance and pays a floating rate.\n",
    "\n",
    "### Use Cases for TRS\n",
    "- **Leverage**: Allows investors to gain exposure to an asset without purchasing it directly, using leverage.\n",
    "- **Hedging and Access**: Provides access to markets or assets that may be otherwise inaccessible.\n",
    "\n",
    "Below is a visualization showing how the cash flows work for a TRS.\n"
   ]
  },
  {
   "cell_type": "code",
   "execution_count": null,
   "id": "03f6762c",
   "metadata": {},
   "outputs": [],
   "source": [
    "\n",
    "# Define parameters for TRS visualization\n",
    "price_change_series = [10000, -5000, 8000, 12000, -3000, 7000, 15000, -2000, 9000, -4000]  # Hypothetical price changes\n",
    "dividend_series = [500, 600, 550, 620, 580, 590, 610, 530, 640, 600]  # Hypothetical dividends\n",
    "floating_rate_series_trs = [0.03, 0.032, 0.028, 0.027, 0.029, 0.031, 0.033, 0.032, 0.030, 0.029]  # Floating rates for TRS\n",
    "\n",
    "# Calculate total return payments and floating leg payments\n",
    "total_return_payments = [price_change + dividend for price_change, dividend in zip(price_change_series, dividend_series)]\n",
    "floating_leg_payments_trs = [floating_rate * notional for floating_rate in floating_rate_series_trs]\n",
    "\n",
    "# Plotting cash flows for TRS\n",
    "plt.figure(figsize=(12, 6))\n",
    "plt.plot(range(1, periods + 1), total_return_payments, label=\"Total Return Leg Payments\", color=\"green\", linestyle=\"--\")\n",
    "plt.plot(range(1, periods + 1), floating_leg_payments_trs, label=\"Floating Leg Payments\", color=\"orange\", linestyle=\":\")\n",
    "plt.xlabel(\"Period\")\n",
    "plt.ylabel(\"Payment Amount ($)\")\n",
    "plt.title(\"Cash Flows for Total Return Swap\")\n",
    "plt.legend()\n",
    "plt.grid(True)\n",
    "plt.show()\n"
   ]
  },
  {
   "cell_type": "markdown",
   "id": "40e5cc78",
   "metadata": {},
   "source": [
    "\n",
    "## 3. Credit Default Swaps (CDS)\n",
    "A Credit Default Swap (CDS) is a contract in which one party (the protection buyer) pays a periodic fee in exchange for protection against credit events, such as default, on a reference entity.\n",
    "\n",
    "### Structure of a CDS\n",
    "- **Protection Buyer**: Pays periodic fees and receives compensation if a credit event occurs.\n",
    "- **Protection Seller**: Receives periodic fees and pays compensation upon a credit event.\n",
    "\n",
    "### Use Cases for CDS\n",
    "- **Hedging**: Financial institutions use CDS to hedge against credit risk in their portfolios.\n",
    "- **Speculation**: Investors can speculate on the creditworthiness of companies or countries.\n",
    "\n",
    "A CDS effectively acts as insurance on credit risk. Below is a visualization showing the cash flows for a CDS.\n"
   ]
  },
  {
   "cell_type": "code",
   "execution_count": null,
   "id": "baf82477",
   "metadata": {},
   "outputs": [],
   "source": [
    "\n",
    "# Define parameters for CDS visualization\n",
    "cds_premium_series = [50000 for _ in range(periods - 1)] + [500000]  # Premium payments, final payment simulates credit event\n",
    "credit_event = [0] * (periods - 1) + [500000]  # Final period has the credit event\n",
    "\n",
    "# Plotting cash flows for CDS\n",
    "plt.figure(figsize=(12, 6))\n",
    "plt.bar(range(1, periods + 1), cds_premium_series, label=\"Premium Payments\", color=\"purple\", alpha=0.6)\n",
    "plt.bar(range(1, periods + 1), credit_event, label=\"Credit Event Payment\", color=\"red\", alpha=0.6, bottom=cds_premium_series)\n",
    "plt.xlabel(\"Period\")\n",
    "plt.ylabel(\"Payment Amount ($)\")\n",
    "plt.title(\"Cash Flows for Credit Default Swap\")\n",
    "plt.legend()\n",
    "plt.grid(True)\n",
    "plt.show()\n"
   ]
  }
 ],
 "metadata": {},
 "nbformat": 4,
 "nbformat_minor": 5
}
