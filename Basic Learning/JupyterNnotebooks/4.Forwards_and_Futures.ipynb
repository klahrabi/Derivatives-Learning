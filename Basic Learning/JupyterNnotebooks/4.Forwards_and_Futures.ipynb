{
 "cells": [
  {
   "cell_type": "markdown",
   "id": "6aa11e2c",
   "metadata": {},
   "source": [
    "# Forwards and Futures"
   ]
  },
  {
   "cell_type": "markdown",
   "id": "ccfb4cf2",
   "metadata": {},
   "source": [
    "\n",
    "## Introduction to Forwards and Futures\n",
    "Forwards and futures are derivatives contracts that allow two parties to agree on the price at which an asset will be bought or sold at a future date. Unlike options, **forwards and futures represent an obligation**, meaning both parties are required to fulfill the contract terms at expiration.\n",
    "\n",
    "### Key Differences from Options\n",
    "- **Obligation**: In a forward or futures contract, both parties are obligated to complete the transaction. In contrast, an option gives the holder the right, but not the obligation, to buy or sell.\n",
    "- **Customization and Trading Venue**: Forwards are customized and traded over-the-counter (OTC), while futures are standardized and traded on exchanges.\n",
    "\n",
    "This notebook explores types of forwards and futures, their payoff structures, and practical applications.\n"
   ]
  },
  {
   "cell_type": "markdown",
   "id": "11f50d25",
   "metadata": {},
   "source": [
    "\n",
    "## 1. Types of Forwards and Futures\n",
    "There are various types of forwards and futures contracts, each serving different markets and purposes.\n",
    "\n",
    "### Commodity Futures\n",
    "Commodity futures are contracts to buy or sell physical commodities (e.g., oil, gold) at a specified price and date in the future.\n",
    "\n",
    "### Currency Forwards\n",
    "Currency forwards allow parties to lock in an exchange rate for a specified amount of foreign currency on a future date.\n",
    "\n",
    "### Equity Futures\n",
    "Equity futures are contracts based on stock indices (e.g., S&P 500) or individual stocks, allowing speculation on the future price of an equity or index.\n",
    "\n",
    "Below is a visualization showing the payoff profile for a forward/futures contract, highlighting how profits or losses depend on the underlying asset’s price at expiration.\n"
   ]
  },
  {
   "cell_type": "code",
   "execution_count": null,
   "id": "b9616423",
   "metadata": {},
   "outputs": [],
   "source": [
    "\n",
    "import numpy as np\n",
    "import matplotlib.pyplot as plt\n",
    "\n",
    "# Define parameters for payoff profile\n",
    "K = 100  # Agreed price (strike price in the forward/futures contract)\n",
    "S_range = np.linspace(50, 150, 100)  # Range of possible prices at expiration\n",
    "\n",
    "# Calculate payoff profiles for long and short positions\n",
    "long_payoff = S_range - K\n",
    "short_payoff = K - S_range\n",
    "\n",
    "# Plotting the payoff profiles\n",
    "plt.figure(figsize=(12, 6))\n",
    "plt.plot(S_range, long_payoff, label=\"Long Forward/Futures Position\", color=\"green\")\n",
    "plt.plot(S_range, short_payoff, label=\"Short Forward/Futures Position\", color=\"red\")\n",
    "plt.axhline(0, color=\"black\", linestyle=\"--\")\n",
    "plt.xlabel(\"Price of Underlying at Expiration\")\n",
    "plt.ylabel(\"Profit/Loss\")\n",
    "plt.title(\"Payoff Profile of Long and Short Positions in a Forward/Futures Contract\")\n",
    "plt.legend()\n",
    "plt.grid(True)\n",
    "plt.show()\n"
   ]
  },
  {
   "cell_type": "markdown",
   "id": "c3f50079",
   "metadata": {},
   "source": [
    "\n",
    "## 2. Conceptual Flow of a Forward/Futures Contract\n",
    "To further understand forwards and futures, let's consider the timeline of such contracts:\n",
    "\n",
    "1. **Contract Initiation**: The buyer and seller agree on a price (forward price) for the transaction at expiration.\n",
    "2. **Periodic Updates (for Futures)**: Futures contracts are marked-to-market daily, meaning gains and losses are settled each day. This is different from forwards, which settle only at expiration.\n",
    "3. **Expiration**: At expiration, the contract is settled, either through physical delivery of the asset or cash settlement based on the difference between the asset's spot price and the agreed-upon price.\n",
    "\n",
    "This timeline helps highlight the **obligatory nature** of these contracts, as both parties are committed to the terms from initiation to expiration.\n"
   ]
  },
  {
   "cell_type": "markdown",
   "id": "e0c39ade",
   "metadata": {},
   "source": [
    "\n",
    "## 3. Pricing and Valuation of Forwards and Futures\n",
    "The pricing of forwards and futures is based on the concept of the **cost of carry**, accounting for costs and benefits of holding the asset until expiration.\n",
    "\n",
    "### Forward Pricing Formula\n",
    "The price of a forward contract is given by:\n",
    "$$F = S_0 \\cdot e^{(r - q) \\cdot T}$$\n",
    "\n",
    "where:\n",
    "- $S_0$: Spot price of the underlying asset\n",
    "- $r$: Risk-free interest rate\n",
    "- $q$: Dividend yield (or storage costs for commodities)\n",
    "- $T$: Time to maturity (in years)\n",
    "\n",
    "Below is an example calculating the forward price for a stock index with dividends.\n"
   ]
  },
  {
   "cell_type": "code",
   "execution_count": null,
   "id": "a1bbe37c",
   "metadata": {},
   "outputs": [],
   "source": [
    "\n",
    "# Parameters for forward price calculation\n",
    "S0 = 100  # Spot price\n",
    "r = 0.05  # Risk-free interest rate\n",
    "q = 0.02  # Dividend yield\n",
    "T = 1     # Time to maturity in years\n",
    "\n",
    "# Calculate forward price\n",
    "F = S0 * np.exp((r - q) * T)\n",
    "F\n"
   ]
  },
  {
   "cell_type": "markdown",
   "id": "df047ce4",
   "metadata": {},
   "source": [
    "\n",
    "## 4. Uses and Strategies for Forwards and Futures\n",
    "Forwards and futures are versatile instruments used in various strategies:\n",
    "\n",
    "### Hedging\n",
    "Used to protect against adverse price movements in commodities, currencies, or interest rates.\n",
    "\n",
    "### Speculation\n",
    "Traders take positions in futures to speculate on market direction, using leverage for potential gains.\n",
    "\n",
    "### Arbitrage\n",
    "Arbitrageurs exploit price discrepancies between spot and futures markets or between futures with different maturities.\n",
    "\n",
    "Below is a simple visualization illustrating a futures hedge for an investor with commodity price exposure.\n"
   ]
  },
  {
   "cell_type": "code",
   "execution_count": null,
   "id": "258e8acd",
   "metadata": {},
   "outputs": [],
   "source": [
    "\n",
    "# Hypothetical hedge illustration\n",
    "hedge_periods = np.arange(1, 13)  # 12 months\n",
    "commodity_exposure = [120 - (5 * i) for i in hedge_periods]  # Reducing exposure over time\n",
    "futures_position = [5 * i for i in hedge_periods]  # Increasing futures position over time to offset exposure\n",
    "\n",
    "plt.figure(figsize=(12, 6))\n",
    "plt.plot(hedge_periods, commodity_exposure, label=\"Commodity Exposure\", color=\"brown\")\n",
    "plt.plot(hedge_periods, futures_position, label=\"Futures Hedge Position\", color=\"blue\")\n",
    "plt.xlabel(\"Month\")\n",
    "plt.ylabel(\"Position Size\")\n",
    "plt.title(\"Conceptual Futures Hedge for Commodity Exposure\")\n",
    "plt.legend()\n",
    "plt.grid(True)\n",
    "plt.show()\n"
   ]
  }
 ],
 "metadata": {},
 "nbformat": 4,
 "nbformat_minor": 5
}
