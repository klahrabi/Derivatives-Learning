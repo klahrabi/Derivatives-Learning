{
 "cells": [
  {
   "cell_type": "markdown",
   "id": "fb83cc7e",
   "metadata": {},
   "source": [
    "# Swaps Part 2 - Swaptions, Embedded Optionality, and Advanced IRS Concepts"
   ]
  },
  {
   "cell_type": "markdown",
   "id": "01158243",
   "metadata": {},
   "source": [
    "\n",
    "## Overview\n",
    "This notebook explores advanced topics in swaps, including swaptions, embedded optionality, and more sophisticated uses of interest rate swaps (IRS).\n",
    "\n",
    "### Topics Covered\n",
    "1. **Swaptions (not really a swap)**: Options on swaps, including payer and receiver swaptions, and their valuation.\n",
    "2. **Embedded Optionality (not really a swap either)**: Early termination options and how swaptions are used to value this feature in swaps.\n",
    "3. **Advanced Interest Rate Swaps**: Additional types of IRS (e.g., basis swaps, amortizing swaps) and concepts like yield curve dynamics.\n",
    "\n",
    "## 1. Swaptions\n",
    "A swaption (swap option) is a financial instrument that provides the holder with the right, but not the obligation, to enter into a swap agreement at a specified future date. Swaptions are commonly used to hedge against or speculate on interest rate movements.\n",
    "\n",
    "### Types of Swaptions\n",
    "- **Payer Swaption**: The right to enter into a swap as the fixed-rate payer and floating-rate receiver.\n",
    "- **Receiver Swaption**: The right to enter into a swap as the fixed-rate receiver and floating-rate payer.\n",
    "\n",
    "### Use Cases\n",
    "- **Hedging**: Corporations or financial institutions may use swaptions to hedge against future interest rate changes.\n",
    "- **Speculation**: Traders use swaptions to speculate on the direction of interest rates.\n",
    "\n",
    "Below is a visualization of the cash flows for a payer swaption.\n"
   ]
  },
  {
   "cell_type": "code",
   "execution_count": null,
   "id": "50d2b92f",
   "metadata": {},
   "outputs": [],
   "source": [
    "\n",
    "import numpy as np\n",
    "import matplotlib.pyplot as plt\n",
    "\n",
    "# Parameters for visualization\n",
    "periods = 10  # Number of periods (e.g., years)\n",
    "fixed_rate_swaption = 0.03  # Fixed rate if swaption is exercised\n",
    "floating_rate_series_swaption = [0.025, 0.028, 0.031, 0.029, 0.027, 0.032, 0.034, 0.030, 0.029, 0.028]  # Hypothetical floating rates\n",
    "notional = 1000000  # Notional principal\n",
    "\n",
    "# Calculate fixed and floating payments if swaption is exercised\n",
    "fixed_payments_swaption = [fixed_rate_swaption * notional for _ in range(periods)]\n",
    "floating_payments_swaption = [floating_rate * notional for floating_rate in floating_rate_series_swaption]\n",
    "\n",
    "# Plotting cash flows for payer swaption if exercised\n",
    "plt.figure(figsize=(12, 6))\n",
    "plt.plot(range(1, periods + 1), fixed_payments_swaption, label=\"Fixed Leg Payments (Payer)\", color=\"blue\", linestyle=\"--\")\n",
    "plt.plot(range(1, periods + 1), floating_payments_swaption, label=\"Floating Leg Payments\", color=\"red\", linestyle=\":\")\n",
    "plt.xlabel(\"Period\")\n",
    "plt.ylabel(\"Payment Amount ($)\")\n",
    "plt.title(\"Cash Flows for Payer Swaption (if exercised)\")\n",
    "plt.legend()\n",
    "plt.grid(True)\n",
    "plt.show()\n"
   ]
  },
  {
   "cell_type": "markdown",
   "id": "9949a081",
   "metadata": {},
   "source": [
    "\n",
    "## 2. Embedded Optionality in Swaps\n",
    "Embedded optionality refers to options within swap agreements that provide flexibility to one or both parties. Common examples include early termination options or break clauses, which allow the swap to be canceled before its maturity date.\n",
    "\n",
    "### Early Termination Options\n",
    "An early termination option provides the right to cancel a swap at a pre-specified date or dates. This embedded option can be valued using swaptions.\n",
    "\n",
    "### Valuation of Embedded Optionality\n",
    "To value embedded optionality like early termination, swaptions are often used. The value of the swaption reflects the option holder’s right to enter or cancel a swap based on future interest rate expectations.\n",
    "\n",
    "Below is a visual of how embedded optionality affects the decision to terminate a swap.\n"
   ]
  },
  {
   "cell_type": "code",
   "execution_count": null,
   "id": "4df6776f",
   "metadata": {},
   "outputs": [],
   "source": [
    "\n",
    "# Parameters for early termination visualization\n",
    "interest_rate_scenarios = np.linspace(0.01, 0.05, periods)  # Hypothetical interest rate scenarios over time\n",
    "break_even_rate = 0.03  # Hypothetical break-even rate for early termination decision\n",
    "\n",
    "# Plotting early termination decision based on interest rates\n",
    "plt.figure(figsize=(12, 6))\n",
    "plt.plot(range(1, periods + 1), interest_rate_scenarios, label=\"Projected Interest Rate\", color=\"green\")\n",
    "plt.axhline(break_even_rate, color=\"orange\", linestyle=\"--\", label=\"Break-Even Rate for Early Termination\")\n",
    "plt.xlabel(\"Period\")\n",
    "plt.ylabel(\"Interest Rate\")\n",
    "plt.title(\"Early Termination Decision in Swap Based on Interest Rate Scenarios\")\n",
    "plt.legend()\n",
    "plt.grid(True)\n",
    "plt.show()\n"
   ]
  },
  {
   "cell_type": "markdown",
   "id": "84bd3a26",
   "metadata": {},
   "source": [
    "\n",
    "## 3. Advanced Interest Rate Swaps (IRS)\n",
    "Interest rate swaps come in various forms beyond the basic fixed-for-floating structure. Some advanced types include:\n",
    "\n",
    "### Basis Swaps\n",
    "A basis swap involves exchanging two floating rates, often based on different benchmark rates. For example, one leg might be tied to LIBOR, while the other is tied to the overnight index swap (OIS) rate.\n",
    "\n",
    "### Amortizing and Accreting Swaps\n",
    "- **Amortizing Swap**: The notional principal decreases over time, often used for loans with regular principal repayments.\n",
    "- **Accreting Swap**: The notional principal increases over time, useful for projects with growing capital needs.\n",
    "\n",
    "### Yield Curve Dynamics\n",
    "Interest rate swaps are heavily influenced by yield curve dynamics. Swaps can be structured to manage duration and convexity, helping institutions hedge against changes in the shape of the yield curve.\n",
    "\n",
    "These types of swaps offer flexibility to match specific risk profiles and financial goals.\n"
   ]
  }
 ],
 "metadata": {
  "kernelspec": {
   "display_name": "Python 3",
   "language": "python",
   "name": "python3"
  },
  "language_info": {
   "codemirror_mode": {
    "name": "ipython",
    "version": 3
   },
   "file_extension": ".py",
   "mimetype": "text/x-python",
   "name": "python",
   "nbconvert_exporter": "python",
   "pygments_lexer": "ipython3",
   "version": "3.11.9"
  }
 },
 "nbformat": 4,
 "nbformat_minor": 5
}
